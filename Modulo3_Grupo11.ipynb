{
  "nbformat": 4,
  "nbformat_minor": 0,
  "metadata": {
    "colab": {
      "name": "Modulo3_Grupo11.ipynb",
      "provenance": [],
      "collapsed_sections": [
        "bisLuoCTdutQ",
        "ayIeKcaEhDVG",
        "cWD47lfthw4v",
        "2LsyPnw9kJIF",
        "qTCBydPZmeXC"
      ],
      "include_colab_link": true
    },
    "kernelspec": {
      "name": "python3",
      "display_name": "Python 3"
    },
    "language_info": {
      "name": "python"
    }
  },
  "cells": [
    {
      "cell_type": "markdown",
      "metadata": {
        "id": "view-in-github",
        "colab_type": "text"
      },
      "source": [
        "<a href=\"https://colab.research.google.com/github/JuanSCalderon/juanscalderon.github.io/blob/master/Modulo3_Grupo11.ipynb\" target=\"_parent\"><img src=\"https://colab.research.google.com/assets/colab-badge.svg\" alt=\"Open In Colab\"/></a>"
      ]
    },
    {
      "cell_type": "code",
      "execution_count": null,
      "metadata": {
        "id": "AnQ-hIPBO8wz"
      },
      "outputs": [],
      "source": [
        ""
      ]
    },
    {
      "cell_type": "markdown",
      "source": [
        "# Listas y tuplas"
      ],
      "metadata": {
        "id": "Eb8VuGlGPBdy"
      }
    },
    {
      "cell_type": "markdown",
      "source": [
        "## Listas"
      ],
      "metadata": {
        "id": "1cxXC7-5PFHc"
      }
    },
    {
      "cell_type": "code",
      "source": [
        "# variable\n",
        "x = 4\n",
        "y = 3.4\n",
        "z = \"hola\"\n",
        "B = True"
      ],
      "metadata": {
        "id": "pLiOM0ykPD_k"
      },
      "execution_count": null,
      "outputs": []
    },
    {
      "cell_type": "code",
      "source": [
        "lista_A = [1,2,3,4,5]\n",
        "lista_A"
      ],
      "metadata": {
        "colab": {
          "base_uri": "https://localhost:8080/"
        },
        "id": "PwmgiF56PQcZ",
        "outputId": "3a5688e9-113c-4d75-ccf3-abfa8ff24bd2"
      },
      "execution_count": null,
      "outputs": [
        {
          "output_type": "execute_result",
          "data": {
            "text/plain": [
              "[1, 2, 3, 4, 5]"
            ]
          },
          "metadata": {},
          "execution_count": 19
        }
      ]
    },
    {
      "cell_type": "code",
      "source": [
        "lista_B = [2.3, 4.5, 8.9]\n",
        "lista_B"
      ],
      "metadata": {
        "colab": {
          "base_uri": "https://localhost:8080/"
        },
        "id": "EQsamG5UPiIA",
        "outputId": "c6e7f924-9595-4532-f0b8-50662d8f701c"
      },
      "execution_count": null,
      "outputs": [
        {
          "output_type": "execute_result",
          "data": {
            "text/plain": [
              "[2.3, 4.5, 8.9]"
            ]
          },
          "metadata": {},
          "execution_count": 6
        }
      ]
    },
    {
      "cell_type": "code",
      "source": [
        "lista_C = [\"a\", \"b\", \"Hola\"]\n",
        "lista_C"
      ],
      "metadata": {
        "colab": {
          "base_uri": "https://localhost:8080/"
        },
        "id": "8UIrCCKCP0Mz",
        "outputId": "7e96c56f-5391-4609-d27a-f2e0ad4c8539"
      },
      "execution_count": null,
      "outputs": [
        {
          "output_type": "execute_result",
          "data": {
            "text/plain": [
              "['a', 'b', 'Hola']"
            ]
          },
          "metadata": {},
          "execution_count": 7
        }
      ]
    },
    {
      "cell_type": "code",
      "source": [
        "lista_D = [23, 4.5, \"abc\"]\n",
        "lista_D"
      ],
      "metadata": {
        "colab": {
          "base_uri": "https://localhost:8080/"
        },
        "id": "k_26duLzP8NG",
        "outputId": "3249ff5c-9e15-479c-b2ae-3969b4d110ca"
      },
      "execution_count": null,
      "outputs": [
        {
          "output_type": "execute_result",
          "data": {
            "text/plain": [
              "[23, 4.5, 'abc']"
            ]
          },
          "metadata": {},
          "execution_count": 9
        }
      ]
    },
    {
      "cell_type": "code",
      "source": [
        "lista_A + lista_B"
      ],
      "metadata": {
        "colab": {
          "base_uri": "https://localhost:8080/"
        },
        "id": "493kYRCjQJI8",
        "outputId": "a5b238c5-f8ba-4e15-f4e0-f19af9c24c53"
      },
      "execution_count": null,
      "outputs": [
        {
          "output_type": "execute_result",
          "data": {
            "text/plain": [
              "[1, 2, 3, 4, 5, 2.3, 4.5, 8.9]"
            ]
          },
          "metadata": {},
          "execution_count": 10
        }
      ]
    },
    {
      "cell_type": "code",
      "source": [
        "lista_E = [1, 2.3, \"ab\", [0,9]]\n",
        "lista_E"
      ],
      "metadata": {
        "colab": {
          "base_uri": "https://localhost:8080/"
        },
        "id": "u1EUNRkrQWAD",
        "outputId": "2690151c-ee63-42f9-d621-beb15164ea67"
      },
      "execution_count": null,
      "outputs": [
        {
          "output_type": "execute_result",
          "data": {
            "text/plain": [
              "[1, 2.3, 'ab', [0, 9]]"
            ]
          },
          "metadata": {},
          "execution_count": 13
        }
      ]
    },
    {
      "cell_type": "markdown",
      "source": [
        "### extend()"
      ],
      "metadata": {
        "id": "N7LWStLzQ9qv"
      }
    },
    {
      "cell_type": "code",
      "source": [
        "lista_A.extend(lista_B)\n",
        "lista_A"
      ],
      "metadata": {
        "colab": {
          "base_uri": "https://localhost:8080/"
        },
        "id": "Wz9KYpL7Qusp",
        "outputId": "d62d2e79-55a7-4d49-82a5-3466b5e19b4e"
      },
      "execution_count": null,
      "outputs": [
        {
          "output_type": "execute_result",
          "data": {
            "text/plain": [
              "[1, 2, 3, 4, 5, 2.3, 4.5, 8.9]"
            ]
          },
          "metadata": {},
          "execution_count": 20
        }
      ]
    },
    {
      "cell_type": "markdown",
      "source": [
        "### Repetir *"
      ],
      "metadata": {
        "id": "sTl6lAnmRnNM"
      }
    },
    {
      "cell_type": "code",
      "source": [
        "lista_B*3"
      ],
      "metadata": {
        "colab": {
          "base_uri": "https://localhost:8080/"
        },
        "id": "V7POsFSeRmtM",
        "outputId": "e774c8d3-136c-44c0-b7f0-5e7a73db6891"
      },
      "execution_count": null,
      "outputs": [
        {
          "output_type": "execute_result",
          "data": {
            "text/plain": [
              "[2.3, 4.5, 8.9, 2.3, 4.5, 8.9, 2.3, 4.5, 8.9]"
            ]
          },
          "metadata": {},
          "execution_count": 23
        }
      ]
    },
    {
      "cell_type": "markdown",
      "source": [
        "### Comparación (< > <= >= == !=)"
      ],
      "metadata": {
        "id": "7fke2lsqR5C4"
      }
    },
    {
      "cell_type": "code",
      "source": [
        "x = [1,2,3]\n",
        "y = [1,2]\n",
        "\n",
        "x != y"
      ],
      "metadata": {
        "colab": {
          "base_uri": "https://localhost:8080/"
        },
        "id": "zBaXQWe4RE0q",
        "outputId": "b6504f09-43c5-43dc-b3b8-b7e27c0b6e9e"
      },
      "execution_count": null,
      "outputs": [
        {
          "output_type": "execute_result",
          "data": {
            "text/plain": [
              "True"
            ]
          },
          "metadata": {},
          "execution_count": 27
        }
      ]
    },
    {
      "cell_type": "code",
      "source": [
        "x = [10,32,43,12,23,65,90]\n",
        "x\n",
        "x[0]"
      ],
      "metadata": {
        "colab": {
          "base_uri": "https://localhost:8080/"
        },
        "id": "WyNar7BgR3sw",
        "outputId": "54ab6fa2-eaf3-4beb-b728-3ab17c72b59c"
      },
      "execution_count": null,
      "outputs": [
        {
          "output_type": "execute_result",
          "data": {
            "text/plain": [
              "10"
            ]
          },
          "metadata": {},
          "execution_count": 30
        }
      ]
    },
    {
      "cell_type": "markdown",
      "source": [
        "### Sub índice"
      ],
      "metadata": {
        "id": "bisLuoCTdutQ"
      }
    },
    {
      "cell_type": "code",
      "source": [
        "x = [23, 43, 87, 21, 14, 90, 68, 201]\n",
        "print(x)\n",
        "print(\"x[0] = \", x[0])\n",
        "print(\"x[2] = \", x[2])\n",
        "print(\"x[7] = \", x[7])\n",
        "print(\"x[-1] = \", x[-1])\n",
        "print(\"x[-2] = \", x[-2])\n",
        "print(\"x[-8] = \", x[-8])"
      ],
      "metadata": {
        "id": "iMMgsd3LTFrj",
        "colab": {
          "base_uri": "https://localhost:8080/"
        },
        "outputId": "b5bf8fa3-3bbf-49c7-b259-818ef721a048"
      },
      "execution_count": null,
      "outputs": [
        {
          "output_type": "stream",
          "name": "stdout",
          "text": [
            "[23, 43, 87, 21, 14, 90, 68, 201]\n",
            "x[0] =  23\n",
            "x[2] =  87\n",
            "x[7] =  201\n",
            "x[-1] =  201\n",
            "x[-2] =  68\n",
            "x[-8] =  23\n"
          ]
        }
      ]
    },
    {
      "cell_type": "code",
      "source": [
        "x = [23, 43, 87, 21, 14, 90, 68, 201]\n",
        "print(x)\n",
        "print(\"x[1] + x[0] = \",x[1] + x[0])"
      ],
      "metadata": {
        "colab": {
          "base_uri": "https://localhost:8080/"
        },
        "id": "r4c2R_o6d-LR",
        "outputId": "e9830915-0969-4470-ae86-b4693db16c33"
      },
      "execution_count": null,
      "outputs": [
        {
          "output_type": "stream",
          "name": "stdout",
          "text": [
            "[23, 43, 87, 21, 14, 90, 68, 201]\n",
            "x[1] + x[0] =  66\n"
          ]
        }
      ]
    },
    {
      "cell_type": "markdown",
      "source": [
        "### Métodos\n",
        "\n",
        "### len()"
      ],
      "metadata": {
        "id": "ayIeKcaEhDVG"
      }
    },
    {
      "cell_type": "code",
      "source": [
        "len(x)\n"
      ],
      "metadata": {
        "colab": {
          "base_uri": "https://localhost:8080/"
        },
        "id": "yEtvI4dQgxdj",
        "outputId": "70c20c14-956d-45b8-f583-05513452f8f4"
      },
      "execution_count": null,
      "outputs": [
        {
          "output_type": "execute_result",
          "data": {
            "text/plain": [
              "8"
            ]
          },
          "metadata": {},
          "execution_count": 14
        }
      ]
    },
    {
      "cell_type": "markdown",
      "source": [
        "### append()"
      ],
      "metadata": {
        "id": "cWD47lfthw4v"
      }
    },
    {
      "cell_type": "code",
      "source": [
        "x = [23, 43, 87, 21, 14, 90, 68, 201]\n",
        "print(x)\n",
        "x.append(2)\n",
        "print(x)\n",
        "x.append(888)\n",
        "print(x)"
      ],
      "metadata": {
        "colab": {
          "base_uri": "https://localhost:8080/"
        },
        "id": "THRnBhLMhuJ8",
        "outputId": "4b89790f-2b09-47cb-c7ed-17664c7176f6"
      },
      "execution_count": null,
      "outputs": [
        {
          "output_type": "stream",
          "name": "stdout",
          "text": [
            "[23, 43, 87, 21, 14, 90, 68, 201]\n",
            "[23, 43, 87, 21, 14, 90, 68, 201, 2]\n",
            "[23, 43, 87, 21, 14, 90, 68, 201, 2, 888]\n"
          ]
        }
      ]
    },
    {
      "cell_type": "code",
      "source": [
        "# extend()\n",
        "x = [23, 43, 87, 21, 14, 90, 68, 201]\n",
        "y = [\"a\", 3.2, 123]\n",
        "print(x)\n",
        "x.extend([2, 13])\n",
        "print(x)"
      ],
      "metadata": {
        "colab": {
          "base_uri": "https://localhost:8080/"
        },
        "id": "nvlh4D_yiBdd",
        "outputId": "7c59231b-8b71-491f-9334-1f8f15e4fca1"
      },
      "execution_count": null,
      "outputs": [
        {
          "output_type": "stream",
          "name": "stdout",
          "text": [
            "[23, 43, 87, 21, 14, 90, 68, 201]\n",
            "[23, 43, 87, 21, 14, 90, 68, 201, 2, 13]\n"
          ]
        }
      ]
    },
    {
      "cell_type": "markdown",
      "source": [
        "### insert()"
      ],
      "metadata": {
        "id": "2LsyPnw9kJIF"
      }
    },
    {
      "cell_type": "code",
      "source": [
        "x = [23, 43, 87, 21, 14, 90, 68, 201]\n",
        "print(x)\n",
        "print(x[1])\n",
        "x.insert(1, 100)\n",
        "print(x)\n",
        "print(x[1])"
      ],
      "metadata": {
        "colab": {
          "base_uri": "https://localhost:8080/"
        },
        "id": "3FeyiBN-iqlu",
        "outputId": "858e42dc-4db6-4bf7-f1cc-3aa9a654e173"
      },
      "execution_count": null,
      "outputs": [
        {
          "output_type": "stream",
          "name": "stdout",
          "text": [
            "[23, 43, 87, 21, 14, 90, 68, 201]\n",
            "43\n",
            "[23, 100, 43, 87, 21, 14, 90, 68, 201]\n",
            "100\n"
          ]
        }
      ]
    },
    {
      "cell_type": "markdown",
      "source": [
        "### remove()"
      ],
      "metadata": {
        "id": "0h7nyUWWk4U4"
      }
    },
    {
      "cell_type": "code",
      "source": [
        "x = [23, 100, 43, 100, 87, 21, 14, 90, 100, 68, 201]\n",
        "print(\"x = \",x)\n",
        "x.remove(100)\n",
        "print(\"x = \",x)\n",
        "x.remove(100)\n",
        "print(\"x = \",x)\n",
        "x.remove(100)\n",
        "print(\"x = \",x)"
      ],
      "metadata": {
        "colab": {
          "base_uri": "https://localhost:8080/"
        },
        "id": "wN6BZkvtkRWf",
        "outputId": "588b47f6-1bbb-48a1-e5c6-1dd78ebb834f"
      },
      "execution_count": null,
      "outputs": [
        {
          "output_type": "stream",
          "name": "stdout",
          "text": [
            "x =  [23, 100, 43, 100, 87, 21, 14, 90, 100, 68, 201]\n",
            "x =  [23, 43, 100, 87, 21, 14, 90, 100, 68, 201]\n",
            "x =  [23, 43, 87, 21, 14, 90, 100, 68, 201]\n",
            "x =  [23, 43, 87, 21, 14, 90, 68, 201]\n"
          ]
        }
      ]
    },
    {
      "cell_type": "markdown",
      "source": [
        "### slice()"
      ],
      "metadata": {
        "id": "qTCBydPZmeXC"
      }
    },
    {
      "cell_type": "code",
      "source": [
        "x = [23, 100, 43, 87, 21, 14, 90, 68, 201]\n",
        "print(\"x = \",x)\n",
        "print(\"len(x) = \",len(x))\n",
        "print(\"x[8] =\",x[8])\n",
        "print(\"x[0:8] = \", x[0:8])"
      ],
      "metadata": {
        "colab": {
          "base_uri": "https://localhost:8080/"
        },
        "id": "Q8UxdTQzk881",
        "outputId": "7cbf7374-1057-4d34-be84-12c6e9f52231"
      },
      "execution_count": null,
      "outputs": [
        {
          "output_type": "stream",
          "name": "stdout",
          "text": [
            "x =  [23, 100, 43, 87, 21, 14, 90, 68, 201]\n",
            "len(x) =  9\n",
            "x[8] = 201\n",
            "x[0:8] =  [23, 100, 43, 87, 21, 14, 90, 68]\n"
          ]
        }
      ]
    },
    {
      "cell_type": "code",
      "source": [
        "x = [23, 100, 43, 87, 21, 14, 90, 68, 201]\n",
        "print(\"x = \",x)\n",
        "print(\"x[0:] = \", x[0:])\n",
        "print(\"x[3:] = \", x[3:])\n",
        "print(\"x[:3] = \", x[:3])\n",
        "print(\"x[0:-1] = \", x[0:-1])"
      ],
      "metadata": {
        "colab": {
          "base_uri": "https://localhost:8080/"
        },
        "id": "2YA-jvA8mi3a",
        "outputId": "58bfcf8a-f517-4e3b-d66f-8d1c814fc222"
      },
      "execution_count": null,
      "outputs": [
        {
          "output_type": "stream",
          "name": "stdout",
          "text": [
            "x =  [23, 100, 43, 87, 21, 14, 90, 68, 201]\n",
            "x[0:] =  [23, 100, 43, 87, 21, 14, 90, 68, 201]\n",
            "x[3:] =  [87, 21, 14, 90, 68, 201]\n",
            "x[:3] =  [23, 100, 43]\n",
            "x[0:-1] =  [23, 100, 43, 87, 21, 14, 90, 68]\n"
          ]
        }
      ]
    },
    {
      "cell_type": "code",
      "source": [
        "x = [23, 100, 43, 87, 21, 14, 90, 68, 201]\n",
        "print(\"x = \",x)\n",
        "print(\"x[3:8] = \", x[3:8])\n",
        "print(\"x[3:8:2] = \", x[3:8:2])\n",
        "print(\"x[3:8:3] = \", x[3:8:3])"
      ],
      "metadata": {
        "colab": {
          "base_uri": "https://localhost:8080/"
        },
        "id": "mvBGYhO2oEoV",
        "outputId": "71f8fc6f-ecc3-459d-ed50-96b86b7799aa"
      },
      "execution_count": null,
      "outputs": [
        {
          "output_type": "stream",
          "name": "stdout",
          "text": [
            "x =  [23, 100, 43, 87, 21, 14, 90, 68, 201]\n",
            "x[3:8] =  [87, 21, 14, 90, 68]\n",
            "x[3:8:2] =  [87, 14, 68]\n",
            "x[3:8:3] =  [87, 90]\n"
          ]
        }
      ]
    },
    {
      "cell_type": "code",
      "source": [
        "x = [23, 100, 43, 87, 21, 14, 90, 68, 201]\n",
        "print(\"x = \",x)\n",
        "print(\"x[8:0:-1] = \", x[8:0:-1])\n",
        "print(\"x[8::-1] = \", x[8::-1])"
      ],
      "metadata": {
        "colab": {
          "base_uri": "https://localhost:8080/"
        },
        "id": "ZiW4ayuPpmMP",
        "outputId": "cf2eb63a-0c1a-4f55-fee0-cd5fdfa21a56"
      },
      "execution_count": null,
      "outputs": [
        {
          "output_type": "stream",
          "name": "stdout",
          "text": [
            "x =  [23, 100, 43, 87, 21, 14, 90, 68, 201]\n",
            "x[8:0:-1] =  [201, 68, 90, 14, 21, 87, 43, 100]\n",
            "x[8::-1] =  [201, 68, 90, 14, 21, 87, 43, 100, 23]\n"
          ]
        }
      ]
    },
    {
      "cell_type": "code",
      "source": [
        "x = [23, 100, 43, 87, 21, 14, 90, 68, 201]\n",
        "print(\"x = \",x)\n",
        "print(\"x[1:6] = \", x[1:6])\n",
        "print(\"x[slice(1, 6)] = \", x[slice(1, 6)])\n",
        "print(\"x[slice(1, 6, 2)] = \", x[slice(1, 6, 2)])"
      ],
      "metadata": {
        "colab": {
          "base_uri": "https://localhost:8080/"
        },
        "id": "s4BeRqQuq8Pc",
        "outputId": "f2021172-4c9d-43f9-a979-81ded05a3fae"
      },
      "execution_count": null,
      "outputs": [
        {
          "output_type": "stream",
          "name": "stdout",
          "text": [
            "x =  [23, 100, 43, 87, 21, 14, 90, 68, 201]\n",
            "x[1:6] =  [100, 43, 87, 21, 14]\n",
            "x[slice(1, 6)] =  [100, 43, 87, 21, 14]\n",
            "x[slice(1, 6, 2)] =  [100, 87, 14]\n"
          ]
        }
      ]
    },
    {
      "cell_type": "markdown",
      "source": [
        "### count()"
      ],
      "metadata": {
        "id": "RV0fkIqssPxm"
      }
    },
    {
      "cell_type": "code",
      "source": [
        "x = [23, 100, 43, 87, 100, 14, 90, 100, 100, 201]\n",
        "print(\"x = \",x)\n",
        "print(\"x.count(100) = \", x.count(100))"
      ],
      "metadata": {
        "colab": {
          "base_uri": "https://localhost:8080/"
        },
        "id": "OIfGSrnxrotu",
        "outputId": "9a2a7fb8-ced6-4aa3-90c1-73cb0487bcd7"
      },
      "execution_count": null,
      "outputs": [
        {
          "output_type": "stream",
          "name": "stdout",
          "text": [
            "x =  [23, 100, 43, 87, 100, 14, 90, 100, 100, 201]\n",
            "x.count(100) =  4\n"
          ]
        }
      ]
    },
    {
      "cell_type": "markdown",
      "source": [
        "### index()"
      ],
      "metadata": {
        "id": "H4ZHcPN-sQyS"
      }
    },
    {
      "cell_type": "code",
      "source": [
        "x = [23, 100, 43, 87, 21, 14, 90, 68, 201]\n",
        "print(\"x = \",x)\n",
        "print(\"x.index(21) = \", x.index(21))"
      ],
      "metadata": {
        "colab": {
          "base_uri": "https://localhost:8080/"
        },
        "id": "RGUfHMk8sRds",
        "outputId": "bd7239a5-aa8b-460a-da3d-e8bf89e46a5c"
      },
      "execution_count": null,
      "outputs": [
        {
          "output_type": "stream",
          "name": "stdout",
          "text": [
            "x =  [23, 100, 43, 87, 21, 14, 90, 68, 201]\n",
            "x.index(21) =  4\n"
          ]
        }
      ]
    },
    {
      "cell_type": "markdown",
      "source": [
        "### max() min()"
      ],
      "metadata": {
        "id": "rAHTJG12sWkR"
      }
    },
    {
      "cell_type": "code",
      "source": [
        "x = [23, 100, 43, 87, 21, 14, 90, 68, 201]\n",
        "print(\"x = \",x)\n",
        "print(max(x))\n",
        "print(min(x))"
      ],
      "metadata": {
        "colab": {
          "base_uri": "https://localhost:8080/"
        },
        "id": "cySO8poJsYfo",
        "outputId": "bcd72c36-f983-4fe1-c010-e51411d935bd"
      },
      "execution_count": null,
      "outputs": [
        {
          "output_type": "stream",
          "name": "stdout",
          "text": [
            "x =  [23, 100, 43, 87, 21, 14, 90, 68, 201]\n",
            "201\n",
            "14\n"
          ]
        }
      ]
    },
    {
      "cell_type": "markdown",
      "source": [
        "### sort()"
      ],
      "metadata": {
        "id": "otXQvpaDsZxi"
      }
    },
    {
      "cell_type": "code",
      "source": [
        "x = [23, 100, 43, 87, 21, 14, 90, 68, 201]\n",
        "print(\"x = \",x)\n",
        "x.sort()\n",
        "print(\"x = \",x)\n",
        "x.reverse()\n",
        "print(\"x = \",x)\n",
        "y = [\"b\",\"r\",\"s\",\"k\",\"jcA\",\"OK\",\"NS\",\"DF\",\"FK\",\"JC\"]\n",
        "y.sort()\n",
        "print(y)"
      ],
      "metadata": {
        "colab": {
          "base_uri": "https://localhost:8080/"
        },
        "id": "VGkDStN_sbSK",
        "outputId": "32d459cd-0c54-4929-8a91-8114957f557e"
      },
      "execution_count": null,
      "outputs": [
        {
          "output_type": "stream",
          "name": "stdout",
          "text": [
            "x =  [23, 100, 43, 87, 21, 14, 90, 68, 201]\n",
            "x =  [14, 21, 23, 43, 68, 87, 90, 100, 201]\n",
            "x =  [201, 100, 90, 87, 68, 43, 23, 21, 14]\n",
            "['DF', 'FK', 'JC', 'NS', 'OK', 'b', 'jcA', 'k', 'r', 's']\n"
          ]
        }
      ]
    },
    {
      "cell_type": "markdown",
      "source": [
        "### list()"
      ],
      "metadata": {
        "id": "Lcngi-cjscD2"
      }
    },
    {
      "cell_type": "code",
      "source": [
        "x = [23, 100, 43, 87, 21, 14, 90, 68, 201]\n",
        "print(\"x = \",x)\n",
        "y = list([12, 3])"
      ],
      "metadata": {
        "colab": {
          "base_uri": "https://localhost:8080/"
        },
        "id": "1eKy6fCnsdhA",
        "outputId": "02adfcdb-106b-48c1-951d-547656e6f1ec"
      },
      "execution_count": null,
      "outputs": [
        {
          "output_type": "stream",
          "name": "stdout",
          "text": [
            "x =  [23, 100, 43, 87, 21, 14, 90, 68, 201]\n"
          ]
        },
        {
          "output_type": "execute_result",
          "data": {
            "text/plain": [
              "[12, 3]"
            ]
          },
          "metadata": {},
          "execution_count": 76
        }
      ]
    },
    {
      "cell_type": "markdown",
      "source": [
        "### pop()"
      ],
      "metadata": {
        "id": "PXf_mjF-seUf"
      }
    },
    {
      "cell_type": "code",
      "source": [
        "x = [23, 100, 43, 87, 21, 14, 90, 68, 201]\n",
        "print(\"x = \",x)\n",
        "x.pop(1)\n",
        "print(\"x = \",x)\n"
      ],
      "metadata": {
        "colab": {
          "base_uri": "https://localhost:8080/"
        },
        "id": "pRoqAb2VsfV7",
        "outputId": "d7f880f5-68b8-4849-964b-5ccc6e0e6cb0"
      },
      "execution_count": null,
      "outputs": [
        {
          "output_type": "stream",
          "name": "stdout",
          "text": [
            "x =  [23, 100, 43, 87, 21, 14, 90, 68, 201]\n",
            "x =  [23, 43, 87, 21, 14, 90, 68, 201]\n"
          ]
        }
      ]
    },
    {
      "cell_type": "markdown",
      "source": [
        "## Tuplas"
      ],
      "metadata": {
        "id": "NiEwUtusrGLX"
      }
    },
    {
      "cell_type": "code",
      "source": [
        "print(type([1, 2, 3]))\n",
        "print(type((1, 2, 3)))"
      ],
      "metadata": {
        "id": "fXndQwe6t0t4",
        "colab": {
          "base_uri": "https://localhost:8080/"
        },
        "outputId": "26dfcf54-cfae-44d4-ae1e-18fb422006c5"
      },
      "execution_count": null,
      "outputs": [
        {
          "output_type": "stream",
          "name": "stdout",
          "text": [
            "<class 'list'>\n",
            "<class 'tuple'>\n"
          ]
        }
      ]
    },
    {
      "cell_type": "code",
      "source": [
        "x = [1, 2, 3, 4]\n",
        "print(x)\n",
        "print(x[1])\n",
        "x[1] = 99\n",
        "print(x)\n",
        "print(x[1])"
      ],
      "metadata": {
        "colab": {
          "base_uri": "https://localhost:8080/"
        },
        "id": "_WhGaP90rfgk",
        "outputId": "8e1d0438-54d4-42a3-eaeb-6777622a098e"
      },
      "execution_count": null,
      "outputs": [
        {
          "output_type": "stream",
          "name": "stdout",
          "text": [
            "[1, 2, 3, 4]\n",
            "2\n",
            "[1, 99, 3, 4]\n",
            "99\n"
          ]
        }
      ]
    },
    {
      "cell_type": "code",
      "source": [
        "y = (1, 2, 3, 4)\n",
        "print(y)\n",
        "print(y[1])"
      ],
      "metadata": {
        "colab": {
          "base_uri": "https://localhost:8080/"
        },
        "id": "A6RrfAH8rvBo",
        "outputId": "48fefa8f-44ac-4773-d3f7-6ebbf583bb88"
      },
      "execution_count": null,
      "outputs": [
        {
          "output_type": "stream",
          "name": "stdout",
          "text": [
            "(1, 2, 3, 4)\n",
            "2\n"
          ]
        }
      ]
    },
    {
      "cell_type": "code",
      "source": [
        "z = ('a', \"hola\", 23, 4.5, True)\n",
        "print(z)\n",
        "z[-1]"
      ],
      "metadata": {
        "colab": {
          "base_uri": "https://localhost:8080/"
        },
        "id": "MqEHu8f1sHT4",
        "outputId": "b2c518a3-3193-457f-8d05-8995da1595c8"
      },
      "execution_count": null,
      "outputs": [
        {
          "output_type": "stream",
          "name": "stdout",
          "text": [
            "('a', 'hola', 23, 4.5, True)\n"
          ]
        },
        {
          "output_type": "execute_result",
          "data": {
            "text/plain": [
              "True"
            ]
          },
          "metadata": {},
          "execution_count": 14
        }
      ]
    },
    {
      "cell_type": "code",
      "source": [
        "w = (7, 5, 3)\n",
        "q = z + w\n",
        "print(q)\n",
        "print(q[0])"
      ],
      "metadata": {
        "colab": {
          "base_uri": "https://localhost:8080/"
        },
        "id": "NRhebS0dsg4D",
        "outputId": "15ceecd5-1bdb-49de-813a-3e406fa68674"
      },
      "execution_count": null,
      "outputs": [
        {
          "output_type": "stream",
          "name": "stdout",
          "text": [
            "('a', 'hola', 23, 4.5, True, 7, 5, 3)\n",
            "a\n"
          ]
        }
      ]
    },
    {
      "cell_type": "markdown",
      "source": [
        "### tuple()"
      ],
      "metadata": {
        "id": "Hfs7tNMuuQOz"
      }
    },
    {
      "cell_type": "code",
      "source": [
        "A = \"Hola amigo.\"\n",
        "print(A)\n",
        "B = tuple(A)\n",
        "print(B)"
      ],
      "metadata": {
        "colab": {
          "base_uri": "https://localhost:8080/"
        },
        "id": "ACEnDHYutZlZ",
        "outputId": "8a4a637b-3d6d-4597-8311-72cb33f29a8b"
      },
      "execution_count": null,
      "outputs": [
        {
          "output_type": "stream",
          "name": "stdout",
          "text": [
            "Hola amigo.\n",
            "('H', 'o', 'l', 'a', ' ', 'a', 'm', 'i', 'g', 'o', '.')\n"
          ]
        }
      ]
    },
    {
      "cell_type": "markdown",
      "source": [
        "### unpacking *"
      ],
      "metadata": {
        "id": "8_MmZD3Luo5e"
      }
    },
    {
      "cell_type": "code",
      "source": [
        "print(z)\n",
        "print(*z)\n",
        "C = list(z)\n",
        "print(C)"
      ],
      "metadata": {
        "colab": {
          "base_uri": "https://localhost:8080/"
        },
        "id": "J6G50VPFudru",
        "outputId": "95aa0a16-9a89-4562-a1cf-873e10637f29"
      },
      "execution_count": null,
      "outputs": [
        {
          "output_type": "stream",
          "name": "stdout",
          "text": [
            "('a', 'hola', 23, 4.5, True)\n",
            "a hola 23 4.5 True\n",
            "['a', 'hola', 23, 4.5, True]\n"
          ]
        }
      ]
    },
    {
      "cell_type": "markdown",
      "source": [
        "### map()"
      ],
      "metadata": {
        "id": "0IsHH3bxv-7g"
      }
    },
    {
      "cell_type": "code",
      "source": [
        "D = list(map(float, ('1', '2', '3')))\n",
        "print(D)"
      ],
      "metadata": {
        "colab": {
          "base_uri": "https://localhost:8080/"
        },
        "id": "hhMiRATKuvGQ",
        "outputId": "fc738385-7511-4c5e-ab4f-dc08d1f5f09f"
      },
      "execution_count": null,
      "outputs": [
        {
          "output_type": "stream",
          "name": "stdout",
          "text": [
            "[1.0, 2.0, 3.0]\n"
          ]
        }
      ]
    },
    {
      "cell_type": "code",
      "source": [
        "E = list(map(print, [99, 87, 66, 45]))"
      ],
      "metadata": {
        "colab": {
          "base_uri": "https://localhost:8080/"
        },
        "id": "qBJudBWNwfJk",
        "outputId": "a82b9b0c-2325-47b8-f414-3aec1835a645"
      },
      "execution_count": null,
      "outputs": [
        {
          "output_type": "stream",
          "name": "stdout",
          "text": [
            "99\n",
            "87\n",
            "66\n",
            "45\n"
          ]
        }
      ]
    },
    {
      "cell_type": "code",
      "source": [
        "E = list(map(int, input().split()))\n",
        "print(E)\n",
        "print(E[0])"
      ],
      "metadata": {
        "colab": {
          "base_uri": "https://localhost:8080/"
        },
        "id": "I4LSfI7TxcjR",
        "outputId": "d7016b5d-2f4b-44e7-fa68-8ef4a73073d6"
      },
      "execution_count": null,
      "outputs": [
        {
          "output_type": "stream",
          "name": "stdout",
          "text": [
            "34 3456789\n",
            "[34, 3456789]\n",
            "34\n"
          ]
        }
      ]
    },
    {
      "cell_type": "code",
      "source": [
        "E = tuple(map(int, input().split()))\n",
        "print(E)\n",
        "print(E[0])\n"
      ],
      "metadata": {
        "colab": {
          "base_uri": "https://localhost:8080/"
        },
        "id": "daRKVkc3y0Xp",
        "outputId": "c3f415f5-911b-4e57-9693-6e54434e167f"
      },
      "execution_count": null,
      "outputs": [
        {
          "output_type": "stream",
          "name": "stdout",
          "text": [
            "12 34 56\n",
            "(12, 34, 56)\n",
            "12\n"
          ]
        }
      ]
    },
    {
      "cell_type": "code",
      "source": [
        "# baraja:\n",
        "bp = (1, 2, 3, 4, 5, 6, 7, 8, 9, 'j', 'q', 'k')"
      ],
      "metadata": {
        "id": "9PeXHEPPz7yr"
      },
      "execution_count": null,
      "outputs": []
    },
    {
      "cell_type": "markdown",
      "source": [
        "# Estructuras de repetición"
      ],
      "metadata": {
        "id": "EpmwqZty1B3-"
      }
    },
    {
      "cell_type": "markdown",
      "source": [
        "## While"
      ],
      "metadata": {
        "id": "l9Mc_TJ61HJ5"
      }
    },
    {
      "cell_type": "code",
      "source": [
        "x = 1\n",
        "print(x)\n",
        "x = x + 1 # x=2\n",
        "print(x)\n",
        "x = x + 1 # x=3\n",
        "print(x)\n",
        "x = x + 1 # x=4\n",
        "print(x)\n",
        "x = x + 1 # x=5\n",
        "print(x)\n",
        "x = x + 1 # x=6\n",
        "print(x)\n",
        "x = x + 1 # x=7"
      ],
      "metadata": {
        "colab": {
          "base_uri": "https://localhost:8080/"
        },
        "id": "IwNf0iG000wW",
        "outputId": "7067f363-1ad5-4118-ee32-6ea7a2f76239"
      },
      "execution_count": null,
      "outputs": [
        {
          "output_type": "stream",
          "name": "stdout",
          "text": [
            "1\n",
            "2\n",
            "3\n",
            "4\n",
            "5\n",
            "6\n"
          ]
        }
      ]
    },
    {
      "cell_type": "code",
      "source": [
        "x = 1\n",
        "while x<=6:\n",
        "  print(x)\n",
        "  x = x + 1\n",
        "print(\"Fin del ciclo.\")"
      ],
      "metadata": {
        "colab": {
          "base_uri": "https://localhost:8080/"
        },
        "id": "lJESs5dr1bIQ",
        "outputId": "4cc65884-c6aa-4922-d4be-f75cc586c9ad"
      },
      "execution_count": null,
      "outputs": [
        {
          "output_type": "stream",
          "name": "stdout",
          "text": [
            "1\n",
            "2\n",
            "3\n",
            "4\n",
            "5\n",
            "6\n",
            "Fin del ciclo.\n"
          ]
        }
      ]
    },
    {
      "cell_type": "code",
      "source": [
        "x = 10\n",
        "while x>=10:\n",
        "  x = int(input(\"Ingrese el valor: \"))\n",
        "print(x)"
      ],
      "metadata": {
        "colab": {
          "base_uri": "https://localhost:8080/"
        },
        "id": "C9ugRiYX4T-i",
        "outputId": "9ddf1b82-0790-4916-f1b9-30e33ed1a900"
      },
      "execution_count": null,
      "outputs": [
        {
          "output_type": "stream",
          "name": "stdout",
          "text": [
            "Ingrese el valor: 23\n",
            "Ingrese el valor: 43\n",
            "Ingrese el valor: 23456\n",
            "Ingrese el valor: 123\n",
            "Ingrese el valor: 2\n",
            "2\n"
          ]
        }
      ]
    },
    {
      "cell_type": "markdown",
      "source": [
        "## For"
      ],
      "metadata": {
        "id": "zRhdp2YJ-gNV"
      }
    },
    {
      "cell_type": "code",
      "source": [
        "A = list(range(5))\n",
        "print(A)"
      ],
      "metadata": {
        "colab": {
          "base_uri": "https://localhost:8080/"
        },
        "id": "Dwl5tK-bAUmp",
        "outputId": "1324a9ce-9e4f-4d9d-c90a-6d70b3b86b1b"
      },
      "execution_count": null,
      "outputs": [
        {
          "output_type": "stream",
          "name": "stdout",
          "text": [
            "[0, 1, 2, 3, 4]\n"
          ]
        }
      ]
    },
    {
      "cell_type": "code",
      "source": [
        "A = list(range(1, 6))\n",
        "print(A)"
      ],
      "metadata": {
        "colab": {
          "base_uri": "https://localhost:8080/"
        },
        "id": "5uhex05AAvlz",
        "outputId": "89c2a4ee-8121-48fb-9ba7-f06913f14308"
      },
      "execution_count": null,
      "outputs": [
        {
          "output_type": "stream",
          "name": "stdout",
          "text": [
            "[1, 2, 3, 4, 5]\n"
          ]
        }
      ]
    },
    {
      "cell_type": "code",
      "source": [
        "A = list(range(1, 6, 2))\n",
        "print(A)"
      ],
      "metadata": {
        "colab": {
          "base_uri": "https://localhost:8080/"
        },
        "id": "kIuC9vT9AvWf",
        "outputId": "42178d0b-64c5-440a-dd9a-ccbcf667aecc"
      },
      "execution_count": null,
      "outputs": [
        {
          "output_type": "stream",
          "name": "stdout",
          "text": [
            "[1, 3, 5]\n"
          ]
        }
      ]
    },
    {
      "cell_type": "code",
      "source": [
        "for x in range(1, 7, 1):\n",
        "  print(x)\n",
        "print(\"Termina el ciclo.\")"
      ],
      "metadata": {
        "colab": {
          "base_uri": "https://localhost:8080/"
        },
        "id": "wpJBlCx49u_s",
        "outputId": "00973572-ebfe-4e98-b647-0c7efe684607"
      },
      "execution_count": null,
      "outputs": [
        {
          "output_type": "stream",
          "name": "stdout",
          "text": [
            "1\n",
            "2\n",
            "3\n",
            "4\n",
            "5\n",
            "6\n",
            "Termina el ciclo.\n"
          ]
        }
      ]
    },
    {
      "cell_type": "code",
      "source": [
        "for i in [56, 34, 32]:\n",
        "  print(i)"
      ],
      "metadata": {
        "colab": {
          "base_uri": "https://localhost:8080/"
        },
        "id": "2fIAqZjj_hua",
        "outputId": "a3bf4636-89bc-4ca3-e6ef-1a019d189366"
      },
      "execution_count": null,
      "outputs": [
        {
          "output_type": "stream",
          "name": "stdout",
          "text": [
            "56\n",
            "34\n",
            "32\n"
          ]
        }
      ]
    },
    {
      "cell_type": "code",
      "source": [
        "for j in \"abcdef\":\n",
        "  print(j)"
      ],
      "metadata": {
        "colab": {
          "base_uri": "https://localhost:8080/"
        },
        "id": "Nb5JEEd-BVRJ",
        "outputId": "d4cbba60-b06f-49a5-86b1-1e40cac0b516"
      },
      "execution_count": null,
      "outputs": [
        {
          "output_type": "stream",
          "name": "stdout",
          "text": [
            "a\n",
            "b\n",
            "c\n",
            "d\n",
            "e\n",
            "f\n"
          ]
        }
      ]
    },
    {
      "cell_type": "markdown",
      "source": [
        "### ejemplo sucesión de Fibonacci"
      ],
      "metadata": {
        "id": "cg0RTz_r3SPB"
      }
    },
    {
      "cell_type": "code",
      "source": [
        "A = 0\n",
        "print(A)\n",
        "B = 1\n",
        "print(B)\n",
        "C = A + B  #C=1\n",
        "print(C)\n",
        "A = B\n",
        "B = C\n",
        "C = A + B  #C=2\n",
        "print(C)\n",
        "A = B\n",
        "B = C\n",
        "C = A + B  #C=3\n",
        "print(C)\n",
        "A = B\n",
        "B = C\n",
        "C = A + B  #C=5\n",
        "print(C)\n",
        "A = B\n",
        "B = C\n",
        "C = A + B  #C=8\n",
        "print(C)\n",
        "A = B\n",
        "B = C\n",
        "C = A + B  #C=13\n",
        "print(C)\n",
        "A = B\n",
        "B = C"
      ],
      "metadata": {
        "id": "K6HkPt-UBcaq",
        "colab": {
          "base_uri": "https://localhost:8080/"
        },
        "outputId": "b22c683e-57e8-45a8-932f-438ab0d26c38"
      },
      "execution_count": null,
      "outputs": [
        {
          "output_type": "stream",
          "name": "stdout",
          "text": [
            "0\n",
            "1\n",
            "1\n",
            "2\n",
            "3\n",
            "5\n",
            "8\n",
            "13\n"
          ]
        }
      ]
    },
    {
      "cell_type": "code",
      "source": [
        "A = 0\n",
        "print(A)\n",
        "B = 1\n",
        "print(B)\n",
        "\n",
        "for i in range(8):\n",
        "  C = A + B\n",
        "  print(C)\n",
        "  A = B\n",
        "  B = C\n"
      ],
      "metadata": {
        "colab": {
          "base_uri": "https://localhost:8080/"
        },
        "id": "28JA6wXj5A2s",
        "outputId": "67238b6c-ef18-47d7-d7f6-da7853d3ed5f"
      },
      "execution_count": null,
      "outputs": [
        {
          "output_type": "stream",
          "name": "stdout",
          "text": [
            "0\n",
            "1\n",
            "1\n",
            "2\n",
            "3\n",
            "5\n",
            "8\n",
            "13\n",
            "21\n",
            "34\n"
          ]
        }
      ]
    },
    {
      "cell_type": "markdown",
      "source": [
        "### ejemplo factorial"
      ],
      "metadata": {
        "id": "hv-qa40X6TZU"
      }
    },
    {
      "cell_type": "code",
      "source": [
        "x = int(input(\"Ingrese un número para hallar su factorial: \"))\n",
        "x = abs(x)\n",
        "for i in range(1, x):\n",
        "  x = x*i\n",
        "print(\"El resultado es: \", x)"
      ],
      "metadata": {
        "colab": {
          "base_uri": "https://localhost:8080/"
        },
        "id": "qpNs1D2V6Bz4",
        "outputId": "a42551fa-95ec-488b-e9f7-069a348f0115"
      },
      "execution_count": null,
      "outputs": [
        {
          "output_type": "stream",
          "name": "stdout",
          "text": [
            "Ingrese un número para hallar su factorial: -6\n",
            "El resultado es:  720\n"
          ]
        }
      ]
    },
    {
      "cell_type": "code",
      "source": [
        "x = 5\n",
        "for i in range(1, x):\n",
        "  print(i)"
      ],
      "metadata": {
        "colab": {
          "base_uri": "https://localhost:8080/"
        },
        "id": "7lvRm8Bh6oXZ",
        "outputId": "b903fe63-0a8b-4c7c-c60a-7ef8162d7aeb"
      },
      "execution_count": null,
      "outputs": [
        {
          "output_type": "stream",
          "name": "stdout",
          "text": [
            "1\n",
            "2\n",
            "3\n",
            "4\n"
          ]
        }
      ]
    },
    {
      "cell_type": "code",
      "source": [
        "# 5*1*2*3*4\n",
        "x = 5\n",
        "x = x*1\n",
        "x = x*2\n",
        "x = x*3\n",
        "x = x*4\n",
        "#x = x*i"
      ],
      "metadata": {
        "id": "QQ1BeN2A7dw4"
      },
      "execution_count": null,
      "outputs": []
    },
    {
      "cell_type": "markdown",
      "source": [
        "# String"
      ],
      "metadata": {
        "id": "SXDjb69f-eOv"
      }
    },
    {
      "cell_type": "code",
      "source": [
        "A = \"Dios es primero, \"\n",
        "B = \"Porque Jesús salva.\"\n",
        "C = A + B\n",
        "print(C)\n",
        "print(A * 2)\n",
        "print(\"El Señor es \\nDios.\")\n",
        "print(\"El Señor es \\tDios.\")"
      ],
      "metadata": {
        "colab": {
          "base_uri": "https://localhost:8080/"
        },
        "id": "ICaV-xp2-etP",
        "outputId": "bf589f24-043d-45b1-d756-79cf83d45317"
      },
      "execution_count": null,
      "outputs": [
        {
          "output_type": "stream",
          "name": "stdout",
          "text": [
            "Dios es primero, Porque Jesús salva.\n",
            "Dios es primero, Dios es primero, \n",
            "El Señor es \n",
            "Dios.\n",
            "El Señor es \tDios.\n"
          ]
        }
      ]
    },
    {
      "cell_type": "code",
      "source": [
        "len(A)"
      ],
      "metadata": {
        "colab": {
          "base_uri": "https://localhost:8080/"
        },
        "id": "DgyamgHP-zzA",
        "outputId": "4c4fe23b-460e-4b67-b29b-4c1081857810"
      },
      "execution_count": null,
      "outputs": [
        {
          "output_type": "execute_result",
          "data": {
            "text/plain": [
              "17"
            ]
          },
          "metadata": {},
          "execution_count": 23
        }
      ]
    },
    {
      "cell_type": "code",
      "source": [
        "print(C)\n",
        "print(C[1])\n",
        "print(C[0:4])\n",
        "print(C[8:20])\n",
        "print(C[20:7:-1])\n",
        "print(C[-6:])\n"
      ],
      "metadata": {
        "colab": {
          "base_uri": "https://localhost:8080/"
        },
        "id": "NHewWRcp_vu2",
        "outputId": "8b113f9c-221f-47f8-aade-c905e489b854"
      },
      "execution_count": null,
      "outputs": [
        {
          "output_type": "stream",
          "name": "stdout",
          "text": [
            "Dios es primero, Porque Jesús salva.\n",
            "i\n",
            "Dios\n",
            "primero, Por\n",
            "qroP ,oremirp\n",
            "salva.\n"
          ]
        }
      ]
    },
    {
      "cell_type": "code",
      "source": [
        "x = 'ac'\n",
        "y = 'ab'\n",
        "print(x == y)\n",
        "print(x > y)"
      ],
      "metadata": {
        "colab": {
          "base_uri": "https://localhost:8080/"
        },
        "id": "wT29eqEP__wO",
        "outputId": "4d34f406-74ad-47ea-a4a3-ed6d866d379c"
      },
      "execution_count": null,
      "outputs": [
        {
          "output_type": "stream",
          "name": "stdout",
          "text": [
            "False\n",
            "True\n"
          ]
        }
      ]
    },
    {
      "cell_type": "code",
      "source": [
        "print(ord('1'))\n",
        "print(ord('a'))\n",
        "print(ord('A'))\n",
        "print(chr(98))\n",
        "\n",
        "'a' > 'A'"
      ],
      "metadata": {
        "colab": {
          "base_uri": "https://localhost:8080/"
        },
        "id": "bquG8ERMBM26",
        "outputId": "bffe0e30-7e84-42ca-f62b-0c37cb6788b3"
      },
      "execution_count": null,
      "outputs": [
        {
          "output_type": "stream",
          "name": "stdout",
          "text": [
            "49\n",
            "97\n",
            "65\n",
            "b\n"
          ]
        },
        {
          "output_type": "execute_result",
          "data": {
            "text/plain": [
              "True"
            ]
          },
          "metadata": {},
          "execution_count": 68
        }
      ]
    },
    {
      "cell_type": "code",
      "source": [
        "print(A)\n",
        "print(A.find('es'))"
      ],
      "metadata": {
        "colab": {
          "base_uri": "https://localhost:8080/"
        },
        "id": "1X1t6qFDCCba",
        "outputId": "7b3d61b9-42d3-4fd4-93ab-f86949be93c6"
      },
      "execution_count": null,
      "outputs": [
        {
          "output_type": "stream",
          "name": "stdout",
          "text": [
            "Dios es primero, \n",
            "5\n"
          ]
        }
      ]
    },
    {
      "cell_type": "code",
      "source": [
        "print(\"AbCdEfGHIjkl\")\n",
        "print(\"AbCdEfGHIjkl\".lower())\n",
        "print(\"AbCdEfGHIjkl\".upper())\n"
      ],
      "metadata": {
        "colab": {
          "base_uri": "https://localhost:8080/"
        },
        "id": "nHjbvu4DEDPq",
        "outputId": "a59c815a-ef10-4910-ed9c-696405273345"
      },
      "execution_count": null,
      "outputs": [
        {
          "output_type": "stream",
          "name": "stdout",
          "text": [
            "AbCdEfGHIjkl\n",
            "abcdefghijkl\n",
            "ABCDEFGHIJKL\n"
          ]
        }
      ]
    },
    {
      "cell_type": "code",
      "source": [
        "A = \"    Dios es primero.    \"\n",
        "print(A.rstrip())\n",
        "print(A)"
      ],
      "metadata": {
        "colab": {
          "base_uri": "https://localhost:8080/"
        },
        "id": "rKjXeNFkExGc",
        "outputId": "ce88b256-f093-48f3-9cee-d50af1efbb82"
      },
      "execution_count": null,
      "outputs": [
        {
          "output_type": "stream",
          "name": "stdout",
          "text": [
            "    Dios es primero.\n",
            "    Dios es primero.    \n"
          ]
        }
      ]
    },
    {
      "cell_type": "code",
      "source": [
        "type(A.split())"
      ],
      "metadata": {
        "colab": {
          "base_uri": "https://localhost:8080/"
        },
        "id": "eOieLYubGI5A",
        "outputId": "6d2e670e-f4c8-4428-efc4-03575eee9b47"
      },
      "execution_count": null,
      "outputs": [
        {
          "output_type": "execute_result",
          "data": {
            "text/plain": [
              "list"
            ]
          },
          "metadata": {},
          "execution_count": 91
        }
      ]
    },
    {
      "cell_type": "code",
      "source": [
        "# ejemplo cadenas:\n",
        "A = input(\"Ingrese cadena 1: \")\n",
        "B = input(\"Ingrese cadena 2: \")\n",
        "\n",
        "if A.find(B) == 0:\n",
        "  print(\"La cadena 1 inicia con la cadena 2.\")"
      ],
      "metadata": {
        "colab": {
          "base_uri": "https://localhost:8080/"
        },
        "id": "gWyyHjeGHZV-",
        "outputId": "9e3a85ea-2d33-48ca-fcf0-7e9fea0c6c37"
      },
      "execution_count": null,
      "outputs": [
        {
          "name": "stdout",
          "output_type": "stream",
          "text": [
            "Ingrese cadena 1: erf gth asdfgh sdfgh\n",
            "Ingrese cadena 2: gth\n"
          ]
        }
      ]
    },
    {
      "cell_type": "markdown",
      "source": [
        "# Reto 3"
      ],
      "metadata": {
        "id": "pmb01dAY_08i"
      }
    },
    {
      "cell_type": "code",
      "source": [
        "# ingreso de datos:\n",
        "varlista = input().split()\n",
        "print(varlista)"
      ],
      "metadata": {
        "id": "KVP-gPMSLTHI",
        "colab": {
          "base_uri": "https://localhost:8080/"
        },
        "outputId": "d37fe9f4-1f9b-4e1e-d20c-f48fc2378011"
      },
      "execution_count": null,
      "outputs": [
        {
          "output_type": "stream",
          "name": "stdout",
          "text": [
            "3\n",
            "11 22 33\n",
            "['11', '22', '33']\n"
          ]
        }
      ]
    },
    {
      "cell_type": "code",
      "source": [
        "list(map(int, varlista))"
      ],
      "metadata": {
        "colab": {
          "base_uri": "https://localhost:8080/"
        },
        "id": "6sHgDS4wAgfE",
        "outputId": "55547f3b-1de0-42b8-e8d4-90c990a044d1"
      },
      "execution_count": null,
      "outputs": [
        {
          "output_type": "execute_result",
          "data": {
            "text/plain": [
              "[11, 22, 33]"
            ]
          },
          "metadata": {},
          "execution_count": 6
        }
      ]
    },
    {
      "cell_type": "code",
      "source": [
        "n = int(input())\n",
        "db = []\n",
        "for i in range(n):\n",
        "  c = list(map(int, input().split()))\n",
        "  db.append(c)\n",
        "\n",
        "print(db)"
      ],
      "metadata": {
        "colab": {
          "base_uri": "https://localhost:8080/"
        },
        "id": "YB0d57WhAoyQ",
        "outputId": "1662c5fe-bc45-4b07-a1d7-eec43f739910"
      },
      "execution_count": null,
      "outputs": [
        {
          "output_type": "stream",
          "name": "stdout",
          "text": [
            "3\n",
            "32 432 65 321 1234\n",
            "87 543 67 123 4321\n",
            "65 345 98 432 7654\n",
            "[[32, 432, 65, 321, 1234], [87, 543, 67, 123, 4321], [65, 345, 98, 432, 7654]]\n"
          ]
        }
      ]
    },
    {
      "cell_type": "code",
      "source": [
        "[32, 432, 65, 321, 1234]\n",
        "[87, 543, 67, 123, 4321]\n",
        "[65, 345, 98, 432, 7654]\n",
        "\n",
        "print(db)\n",
        "print(db[2])\n",
        "print(db[0][1])\n",
        "print(db[2][2])"
      ],
      "metadata": {
        "colab": {
          "base_uri": "https://localhost:8080/"
        },
        "id": "nxPKtUo7Bzyx",
        "outputId": "955ddb89-eedc-46c9-91f8-7a579c5105ed"
      },
      "execution_count": null,
      "outputs": [
        {
          "output_type": "stream",
          "name": "stdout",
          "text": [
            "[[32, 432, 65, 321, 1234], [87, 543, 67, 123, 4321], [65, 345, 98, 432, 7654]]\n",
            "[65, 345, 98, 432, 7654]\n",
            "432\n",
            "98\n"
          ]
        }
      ]
    },
    {
      "cell_type": "code",
      "source": [
        "print(20 < db[0][0] and db[0][0] < 70)\n",
        "print(20 < db[1][0] and db[1][0] < 70)\n",
        "print(20 < db[2][0] and db[2][0] < 70)\n"
      ],
      "metadata": {
        "colab": {
          "base_uri": "https://localhost:8080/"
        },
        "id": "WLV3p5X2ImFF",
        "outputId": "82c6ae19-bca3-419d-f8e3-582916047374"
      },
      "execution_count": null,
      "outputs": [
        {
          "output_type": "stream",
          "name": "stdout",
          "text": [
            "True\n",
            "False\n",
            "True\n"
          ]
        }
      ]
    },
    {
      "cell_type": "code",
      "source": [
        "for j in range(n):\n",
        "  print(20 < db[j][0] and db[j][0] < 70)"
      ],
      "metadata": {
        "colab": {
          "base_uri": "https://localhost:8080/"
        },
        "id": "SSlGuF3FKveO",
        "outputId": "4608695b-53c8-49bd-b09c-ca40130740b6"
      },
      "execution_count": null,
      "outputs": [
        {
          "output_type": "stream",
          "name": "stdout",
          "text": [
            "True\n",
            "False\n",
            "True\n"
          ]
        }
      ]
    },
    {
      "cell_type": "code",
      "source": [
        "print(db[0][0] > 20 and db[0][0] < 70)\n",
        "print(db[0][1] > 100 and db[0][1] < 300)\n",
        "print(db[0][2] >=240 and db[0][2] <=275)\n",
        "print(db[0][3] <= 50)\n",
        "\n",
        "print(db[1][0] > 20 and db[1][0] < 70)\n",
        "print(db[1][1] > 100 and db[1][1] < 300)\n",
        "print(db[1][2] >=240 and db[1][2] <=275)\n",
        "print(db[1][3] <= 50)\n",
        "\n",
        "print(db[2][0] > 20 and db[2][0] < 70)\n",
        "print(db[2][1] > 100 and db[2][1] < 300)\n",
        "print(db[2][2] >=240 and db[2][2] <=275)\n",
        "print(db[2][3] <= 50)\n"
      ],
      "metadata": {
        "colab": {
          "base_uri": "https://localhost:8080/"
        },
        "id": "ohNFSLgpMIwi",
        "outputId": "86a0df16-65c2-40c5-9ca5-57594f5ffbe0"
      },
      "execution_count": null,
      "outputs": [
        {
          "output_type": "stream",
          "name": "stdout",
          "text": [
            "True\n",
            "False\n",
            "False\n",
            "False\n",
            "False\n",
            "False\n",
            "False\n",
            "False\n",
            "True\n",
            "False\n",
            "False\n",
            "False\n"
          ]
        }
      ]
    },
    {
      "cell_type": "code",
      "source": [
        "db[0][0] > 20 and db[0][0] < 70\n",
        "db[0][1] > 100 and db[0][1] < 300\n",
        "db[0][2] >=240 and db[0][2] <=275\n",
        "db[0][3] <= 50\n",
        "\n",
        "db[1][0] > 20 and db[1][0] < 70\n",
        "db[1][1] > 100 and db[1][1] < 300\n",
        "db[1][2] >=240 and db[1][2] <=275\n",
        "db[1][3] <= 50\n",
        "\n",
        "db[2][0] > 20 and db[2][0] < 70\n",
        "db[2][1] > 100 and db[2][1] < 300\n",
        "db[2][2] >=240 and db[2][2] <=275\n",
        "db[2][3] <= 50\n"
      ],
      "metadata": {
        "colab": {
          "base_uri": "https://localhost:8080/"
        },
        "id": "Po0ndljzN38b",
        "outputId": "0664fd95-847b-43ab-815a-0e5b85f737bf"
      },
      "execution_count": null,
      "outputs": [
        {
          "output_type": "execute_result",
          "data": {
            "text/plain": [
              "False"
            ]
          },
          "metadata": {},
          "execution_count": 28
        }
      ]
    },
    {
      "cell_type": "code",
      "source": [
        "for k in range(n):\n",
        "  if (db[k][0] > 20 and db[k][0] < 70) and\\\n",
        "   (db[k][1] > 100 and db[k][1] < 500) and\\\n",
        "   (db[k][2] >=40 and db[k][2] <=275) and\\\n",
        "   (db[k][3] <= 500):\n",
        "   print(db[k][4])\n",
        "\n"
      ],
      "metadata": {
        "colab": {
          "base_uri": "https://localhost:8080/"
        },
        "id": "EsE6azZ9SX0K",
        "outputId": "64fc3fd0-6333-4810-e46d-1f9641728777"
      },
      "execution_count": null,
      "outputs": [
        {
          "output_type": "stream",
          "name": "stdout",
          "text": [
            "1234\n",
            "7654\n"
          ]
        }
      ]
    },
    {
      "cell_type": "code",
      "source": [
        ""
      ],
      "metadata": {
        "id": "hTpMbAetT8BA"
      },
      "execution_count": null,
      "outputs": []
    }
  ]
}